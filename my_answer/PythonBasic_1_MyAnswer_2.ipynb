{
  "nbformat": 4,
  "nbformat_minor": 0,
  "metadata": {
    "colab": {
      "provenance": [],
      "authorship_tag": "ABX9TyN79dnMDayYZ8DsoSyPYcyb",
      "include_colab_link": true
    },
    "kernelspec": {
      "name": "python3",
      "display_name": "Python 3"
    },
    "language_info": {
      "name": "python"
    }
  },
  "cells": [
    {
      "cell_type": "markdown",
      "metadata": {
        "id": "view-in-github",
        "colab_type": "text"
      },
      "source": [
        "<a href=\"https://colab.research.google.com/github/B2220270/Prmn2023a/blob/main/my_answer/PythonBasic_1_MyAnswer_2.ipynb\" target=\"_parent\"><img src=\"https://colab.research.google.com/assets/colab-badge.svg\" alt=\"Open In Colab\"/></a>"
      ]
    },
    {
      "cell_type": "markdown",
      "source": [
        "課題１"
      ],
      "metadata": {
        "id": "qkxPvWm1kG5K"
      }
    },
    {
      "cell_type": "code",
      "execution_count": 28,
      "metadata": {
        "colab": {
          "base_uri": "https://localhost:8080/"
        },
        "id": "PnF7JDErkF91",
        "outputId": "7d3ec143-ee52-493d-f8ca-7ad95a2b58ab"
      },
      "outputs": [
        {
          "output_type": "stream",
          "name": "stdout",
          "text": [
            "   *\n",
            "  ***\n",
            " *****\n",
            "*******\n"
          ]
        }
      ],
      "source": [
        "for i in range(4):\n",
        "  n=3-i\n",
        "  for j in range(n):\n",
        "    print(' ',end='')\n",
        "  n2=2*(3-n)+1\n",
        "  for j in range(n2):\n",
        "    print('*',end='')\n",
        "  print()"
      ]
    },
    {
      "cell_type": "markdown",
      "source": [
        "課題２"
      ],
      "metadata": {
        "id": "Rk4lBLBcs_4b"
      }
    },
    {
      "cell_type": "code",
      "source": [
        "n=int(input('n='))\n",
        "for i in range(n):\n",
        "  m=n-1-i\n",
        "  for j in range(m):\n",
        "    print(' ',end='')\n",
        "  m2=2*(n-1-m)+1\n",
        "  for j in range(m2):\n",
        "    print('*',end='')\n",
        "  print()"
      ],
      "metadata": {
        "colab": {
          "base_uri": "https://localhost:8080/"
        },
        "id": "N32BG3ZitCGT",
        "outputId": "6408465c-450d-438d-9eac-025dca83faa0"
      },
      "execution_count": 52,
      "outputs": [
        {
          "output_type": "stream",
          "name": "stdout",
          "text": [
            "n=5\n",
            "    *\n",
            "   ***\n",
            "  *****\n",
            " *******\n",
            "*********\n"
          ]
        }
      ]
    },
    {
      "cell_type": "markdown",
      "source": [
        "課題３"
      ],
      "metadata": {
        "id": "5mKfBNJwzbkj"
      }
    },
    {
      "cell_type": "code",
      "source": [
        "for i in range(7):\n",
        "  n=3-i\n",
        "  if(n<0):\n",
        "    n=-n\n",
        "  for j in range(n):\n",
        "    print(' ',end='')\n",
        "  n2=2*(3-n)+1\n",
        "  for j in range(n2):\n",
        "    print('*',end='')\n",
        "  print()"
      ],
      "metadata": {
        "colab": {
          "base_uri": "https://localhost:8080/"
        },
        "id": "EVqsY6Buzdnk",
        "outputId": "029f8e5b-7be3-4f1f-fe1c-13efca9e2ce2"
      },
      "execution_count": 31,
      "outputs": [
        {
          "output_type": "stream",
          "name": "stdout",
          "text": [
            "   *\n",
            "  ***\n",
            " *****\n",
            "*******\n",
            " *****\n",
            "  ***\n",
            "   *\n"
          ]
        }
      ]
    },
    {
      "cell_type": "markdown",
      "source": [
        "課題４"
      ],
      "metadata": {
        "id": "XX6lpzN00aLt"
      }
    },
    {
      "cell_type": "code",
      "source": [
        "n=int(input('n='))\n",
        "for i in range(2*n-1):\n",
        "  m=n-1-i\n",
        "  if(m<0):\n",
        "    m=-m\n",
        "  for j in range(m):\n",
        "    print(' ',end='')\n",
        "  m2=2*(n-1-m)+1\n",
        "  for j in range(m2):\n",
        "    print('*',end='')\n",
        "  print()"
      ],
      "metadata": {
        "colab": {
          "base_uri": "https://localhost:8080/"
        },
        "id": "OayV1vLC0cqj",
        "outputId": "9bc44779-2feb-4496-a9b7-c7813f6e9e47"
      },
      "execution_count": 38,
      "outputs": [
        {
          "output_type": "stream",
          "name": "stdout",
          "text": [
            "n=5\n",
            "    *\n",
            "   ***\n",
            "  *****\n",
            " *******\n",
            "*********\n",
            " *******\n",
            "  *****\n",
            "   ***\n",
            "    *\n"
          ]
        }
      ]
    },
    {
      "cell_type": "markdown",
      "source": [
        "課題５"
      ],
      "metadata": {
        "id": "E6TqlLTi0wM2"
      }
    },
    {
      "cell_type": "code",
      "source": [
        "for i in range(7):\n",
        "  n1=4-(i+1)\n",
        "  if(n1<0):\n",
        "    n1=-n1\n",
        "  if(i+1<=4):\n",
        "    n2=2*(i+1)-1\n",
        "  else:\n",
        "    n2=15-2*(i+1)\n",
        "  if(n2==7):\n",
        "    for j in range(13):\n",
        "      print('*',end='')\n",
        "  else:\n",
        "    for j in range(n1):\n",
        "      print(' ',end='')\n",
        "    for j in range(n2):\n",
        "      print('*',end='')\n",
        "    for j in range(2*n1-1):\n",
        "      print(' ',end='')\n",
        "    for j in range(n2):\n",
        "      print('*',end='')\n",
        "  print()"
      ],
      "metadata": {
        "colab": {
          "base_uri": "https://localhost:8080/"
        },
        "id": "AoNTbOgs0zG9",
        "outputId": "566b0aa3-c41e-4166-95b6-4b4839f224b8"
      },
      "execution_count": 39,
      "outputs": [
        {
          "output_type": "stream",
          "name": "stdout",
          "text": [
            "   *     *\n",
            "  ***   ***\n",
            " ***** *****\n",
            "*************\n",
            " ***** *****\n",
            "  ***   ***\n",
            "   *     *\n"
          ]
        }
      ]
    },
    {
      "cell_type": "markdown",
      "source": [
        "課題６"
      ],
      "metadata": {
        "id": "1ItyiZ8Q7viz"
      }
    },
    {
      "cell_type": "code",
      "source": [
        "n=int(input('n='))\n",
        "for i in range(2*n-1):\n",
        "  n1=n-(i+1)\n",
        "  if(n1<0):\n",
        "    n1=-n1\n",
        "  if(i+1<=n):\n",
        "    n2=2*(i+1)-1\n",
        "  else:\n",
        "    n2=(4*n-1)-2*(i+1)\n",
        "  if(n2==(2*n-1)):\n",
        "    for j in range(4*n-3):\n",
        "      print('*',end='')\n",
        "  else:\n",
        "    for j in range(n1):\n",
        "      print(' ',end='')\n",
        "    for j in range(n2):\n",
        "      print('*',end='')\n",
        "    for j in range(2*n1-1):\n",
        "      print(' ',end='')\n",
        "    for j in range(n2):\n",
        "      print('*',end='')\n",
        "  print()"
      ],
      "metadata": {
        "colab": {
          "base_uri": "https://localhost:8080/"
        },
        "id": "YvXv_pdu7xhq",
        "outputId": "a58ef505-1f67-4bf7-8b59-e883dd8e43e5"
      },
      "execution_count": 42,
      "outputs": [
        {
          "output_type": "stream",
          "name": "stdout",
          "text": [
            "n=5\n",
            "    *       *\n",
            "   ***     ***\n",
            "  *****   *****\n",
            " ******* *******\n",
            "*****************\n",
            " ******* *******\n",
            "  *****   *****\n",
            "   ***     ***\n",
            "    *       *\n"
          ]
        }
      ]
    },
    {
      "cell_type": "markdown",
      "source": [
        "課題７"
      ],
      "metadata": {
        "id": "xtBi97Nb92Su"
      }
    },
    {
      "cell_type": "code",
      "source": [
        "for i in range(13):\n",
        "  if(i+1<=7):\n",
        "    k=i+1\n",
        "  else:\n",
        "    k=i-5\n",
        "  n1=4-k\n",
        "  if(n1<0):\n",
        "    n1=-n1\n",
        "  if(k<4):\n",
        "    n2=2*k-1\n",
        "  else:\n",
        "    n2=15-2*k\n",
        "  if(n2==7):\n",
        "    for j in range(13):\n",
        "      print('*',end='')\n",
        "  else:\n",
        "    for j in range(n1):\n",
        "      print(' ',end='')\n",
        "    for j in range(n2):\n",
        "      print('*',end='')\n",
        "    for j in range(2*n1-1):\n",
        "      print(' ',end='')\n",
        "    for j in range(n2):\n",
        "      print('*',end='')\n",
        "  print()"
      ],
      "metadata": {
        "colab": {
          "base_uri": "https://localhost:8080/"
        },
        "id": "m8UgYoI894H1",
        "outputId": "a1dc6a20-a3e3-4dbe-c26b-b84552114ed3"
      },
      "execution_count": 48,
      "outputs": [
        {
          "output_type": "stream",
          "name": "stdout",
          "text": [
            "   *     *\n",
            "  ***   ***\n",
            " ***** *****\n",
            "*************\n",
            " ***** *****\n",
            "  ***   ***\n",
            "   *     *\n",
            "  ***   ***\n",
            " ***** *****\n",
            "*************\n",
            " ***** *****\n",
            "  ***   ***\n",
            "   *     *\n"
          ]
        }
      ]
    },
    {
      "cell_type": "markdown",
      "source": [
        "課題８"
      ],
      "metadata": {
        "id": "LYlzhj96Ad7V"
      }
    },
    {
      "cell_type": "code",
      "source": [
        "n=int(input('n='))\n",
        "for i in range(4*n-3):\n",
        "  if(i+1<=2*n-1):\n",
        "    k=i+1\n",
        "  else:\n",
        "    k=i-2*n+3\n",
        "  n1=n-k\n",
        "  if(n1<0):\n",
        "    n1=-n1\n",
        "  if(k<n):\n",
        "    n2=2*k-1\n",
        "  else:\n",
        "    n2=4*n-1-2*k\n",
        "  if(n2==2*n-1):\n",
        "    for j in range(4*n-3):\n",
        "      print('*',end='')\n",
        "  else:\n",
        "    for j in range(n1):\n",
        "      print(' ',end='')\n",
        "    for j in range(n2):\n",
        "      print('*',end='')\n",
        "    for j in range(2*n1-1):\n",
        "      print(' ',end='')\n",
        "    for j in range(n2):\n",
        "      print('*',end='')\n",
        "  print()"
      ],
      "metadata": {
        "colab": {
          "base_uri": "https://localhost:8080/"
        },
        "id": "IIcjf338Ah8W",
        "outputId": "20dc3716-1de2-4785-fb22-b4cb6c521880"
      },
      "execution_count": 51,
      "outputs": [
        {
          "output_type": "stream",
          "name": "stdout",
          "text": [
            "n=5\n",
            "    *       *\n",
            "   ***     ***\n",
            "  *****   *****\n",
            " ******* *******\n",
            "*****************\n",
            " ******* *******\n",
            "  *****   *****\n",
            "   ***     ***\n",
            "    *       *\n",
            "   ***     ***\n",
            "  *****   *****\n",
            " ******* *******\n",
            "*****************\n",
            " ******* *******\n",
            "  *****   *****\n",
            "   ***     ***\n",
            "    *       *\n"
          ]
        }
      ]
    }
  ]
}