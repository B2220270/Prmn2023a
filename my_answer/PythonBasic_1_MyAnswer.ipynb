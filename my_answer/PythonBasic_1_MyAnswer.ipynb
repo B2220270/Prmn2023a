{
  "nbformat": 4,
  "nbformat_minor": 0,
  "metadata": {
    "colab": {
      "provenance": [],
      "authorship_tag": "ABX9TyP3s4i0SelrP1bTXxqLzfp8",
      "include_colab_link": true
    },
    "kernelspec": {
      "name": "python3",
      "display_name": "Python 3"
    },
    "language_info": {
      "name": "python"
    }
  },
  "cells": [
    {
      "cell_type": "markdown",
      "metadata": {
        "id": "view-in-github",
        "colab_type": "text"
      },
      "source": [
        "<a href=\"https://colab.research.google.com/github/B2220270/Prmn2023a/blob/main/my_answer/PythonBasic_1_MyAnswer.ipynb\" target=\"_parent\"><img src=\"https://colab.research.google.com/assets/colab-badge.svg\" alt=\"Open In Colab\"/></a>"
      ]
    },
    {
      "cell_type": "markdown",
      "source": [
        "課題1"
      ],
      "metadata": {
        "id": "wdjzyzMscFTv"
      }
    },
    {
      "cell_type": "code",
      "source": [
        "print('b2220270 Ishimoto Wakana')"
      ],
      "metadata": {
        "id": "1k0tAYFccDwv",
        "outputId": "ca2f9e4f-e8d9-4189-d550-8b04605c8985",
        "colab": {
          "base_uri": "https://localhost:8080/"
        }
      },
      "execution_count": 1,
      "outputs": [
        {
          "output_type": "stream",
          "name": "stdout",
          "text": [
            "b2220270 Ishimoto Wakana\n"
          ]
        }
      ]
    },
    {
      "cell_type": "markdown",
      "source": [
        "課題２"
      ],
      "metadata": {
        "id": "SCxXiL6VdTDd"
      }
    },
    {
      "cell_type": "code",
      "source": [
        "student_number=2220270\n",
        "\n",
        "print(\"b\"+str(student_number)+\" Ishimoto Wakana\")\n",
        "print(\"b{} Ishimoto Wakana\".format(student_number))\n",
        "print(f\"b{student_number} Ishimoto Wakana\")"
      ],
      "metadata": {
        "id": "D6dR4vcHdWi1",
        "outputId": "e77ae64b-8406-4242-9923-3165dc91a4f0",
        "colab": {
          "base_uri": "https://localhost:8080/"
        }
      },
      "execution_count": 5,
      "outputs": [
        {
          "output_type": "stream",
          "name": "stdout",
          "text": [
            "b2220270 Ishimoto Wakana\n",
            "b2220270 Ishimoto Wakana\n",
            "b2220270 Ishimoto Wakana\n"
          ]
        }
      ]
    },
    {
      "cell_type": "markdown",
      "source": [
        "課題３"
      ],
      "metadata": {
        "id": "3jb86eEZe4A_"
      }
    },
    {
      "cell_type": "code",
      "source": [
        "student_number=2220000\n",
        "\n",
        "import random\n",
        "student_number+=random.randint(1,280)*10\n",
        "\n",
        "print(\"b\"+str(student_number)+\" Ishimoto Wakana\")\n",
        "print(\"b{} Ishimoto Wakana\".format(student_number))\n",
        "print(f\"b{student_number} Ishimoto Wakana\")"
      ],
      "metadata": {
        "id": "OpeqSJgNfCHQ",
        "outputId": "a13577bf-8bbf-440e-9411-6ab2fb32d52c",
        "colab": {
          "base_uri": "https://localhost:8080/"
        }
      },
      "execution_count": 11,
      "outputs": [
        {
          "output_type": "stream",
          "name": "stdout",
          "text": [
            "b2220780 Ishimoto Wakana\n",
            "b2220780 Ishimoto Wakana\n",
            "b2220780 Ishimoto Wakana\n"
          ]
        }
      ]
    }
  ]
}